{
 "cells": [
  {
   "cell_type": "code",
   "execution_count": 1,
   "metadata": {},
   "outputs": [
    {
     "name": "stderr",
     "output_type": "stream",
     "text": [
      "Using TensorFlow backend.\n"
     ]
    }
   ],
   "source": [
    "import cv2\n",
    "from mtcnn.mtcnn import MTCNN # import MTCNN\n",
    "from OpenSSL import crypto\n",
    "from socket import gethostname\n",
    "import cv2\n",
    "import base64\n",
    "import hashlib\n",
    "import os\n",
    "import sys\n"
   ]
  },
  {
   "cell_type": "markdown",
   "metadata": {},
   "source": [
    "###  Creates signed privacy protected video"
   ]
  },
  {
   "cell_type": "code",
   "execution_count": 2,
   "metadata": {
    "scrolled": false
   },
   "outputs": [
    {
     "name": "stdout",
     "output_type": "stream",
     "text": [
      "WARNING:tensorflow:From C:\\Users\\hp\\Anaconda3\\lib\\site-packages\\tensorflow\\python\\framework\\op_def_library.py:263: colocate_with (from tensorflow.python.framework.ops) is deprecated and will be removed in a future version.\n",
      "Instructions for updating:\n",
      "Colocations handled automatically by placer.\n"
     ]
    },
    {
     "name": "stderr",
     "output_type": "stream",
     "text": [
      "C:\\Users\\hp\\Anaconda3\\lib\\site-packages\\ipykernel_launcher.py:59: DeprecationWarning: str for data is no longer accepted, use bytes\n"
     ]
    }
   ],
   "source": [
    "\n",
    "\n",
    "detector = MTCNN()#MTCNN initialized\n",
    "CERT_FILE = \"selfsigned.crt\"\n",
    "KEY_FILE = \"private.key\"\n",
    "NumberPlateDetectorPath='E:\\\\Sem7\\\\IS\\\\Proj\\\\PintoPrototype\\\\haarcascade_russian_plate_number.xml'\n",
    "cascade = cv2.CascadeClassifier(NumberPlateDetectorPath)#Haar initialized\n",
    "signaturePath='signature'\n",
    "storeSignaturePath='out.png'\n",
    "\n",
    "\n",
    "def find_and_blur(bw, color): \n",
    "    # detect al faces\n",
    "\n",
    "    facesMtcnn = detector.detect_faces(color) #applying mtcnn\n",
    "\n",
    "     ##########################################################\n",
    "    for i in range(len(facesMtcnn)):#Mtcnn\n",
    "        # get coordinates\n",
    "        x1, y1, width, height = facesMtcnn[i]['box']#getting bounding box of face\n",
    "        x2, y2 = x1 + width, y1 + height\n",
    "        roi_color = color[y1:y2, x1:x2]\n",
    "        # blur the colored image\n",
    "        blur = cv2.GaussianBlur(roi_color, (101,101), 0)\n",
    "        # Insert ROI back into image\n",
    "        color[y1:y2, x1:x2] = blur \n",
    "\n",
    "    ##########################################################\n",
    "\n",
    "    return color\n",
    "\n",
    "def hash_file(filename):\n",
    "   \"\"\"\"This function returns the SHA-1 hash\n",
    "   of the file passed into it\"\"\"\n",
    "   # make a hash object\n",
    "   h = hashlib.sha1()\n",
    "   \n",
    "   # open file for reading in binary mode\n",
    "   with open(filename,'rb') as file:\n",
    "       # loop till the end of the file\n",
    "       chunk = 0\n",
    "       while chunk != b'':\n",
    "           # read only 1024 bytes at a time\n",
    "           chunk = file.read(1024)\n",
    "           h.update(chunk)\n",
    "   # return the hex representation of digest\n",
    "   return h.hexdigest()\n",
    "\n",
    "def signContent(signImagePath):\n",
    "    try:\n",
    "        # Now the real world use case; use certificate to verify signature\n",
    "        f = open(KEY_FILE)\n",
    "        pv_buf = f.read()\n",
    "        f.close()\n",
    "        priv_key = crypto.load_privatekey(crypto.FILETYPE_PEM, pv_buf)\n",
    "        \n",
    "        # # sign and verify PASS\n",
    "        msg=hash_file(signImagePath)\n",
    "        sig = crypto.sign(priv_key, msg, 'sha256')#signed the image\n",
    "        \n",
    "        open(signaturePath, 'a').close()\n",
    "\n",
    "        f = open(signaturePath, 'wb')\n",
    "        f.write(sig)\n",
    "        f.close()\n",
    "        \n",
    "    except:\n",
    "        print(\"File path may not be correct\")\n",
    "\n",
    "# turn camera on\n",
    "\n",
    "video_capture = cv2.VideoCapture(0)\n",
    "\n",
    "\n",
    "out = cv2.VideoWriter('videoOut.mp4',cv2.VideoWriter_fourcc(*'MJPG'),20.0, (round(video_capture.get(cv2.CAP_PROP_FRAME_WIDTH)),round(video_capture.get(cv2.CAP_PROP_FRAME_HEIGHT))))\n",
    "\n",
    "while True:\n",
    "    # get last recorded frame\n",
    "    _, color = video_capture.read()\n",
    "    \n",
    "    # detect the face and blur it\n",
    "    blur = find_and_blur(color, color)\n",
    "    # display output\n",
    "    cv2.imshow('Video', blur)\n",
    "    out.write(blur)\n",
    "    # break if q is pressed\n",
    "    if cv2.waitKey(1) & 0xFF == ord('q'):\n",
    "        break\n",
    "\n",
    "# turn camera off        \n",
    "video_capture.release()\n",
    "out.release()\n",
    "# close camera  window\n",
    "cv2.destroyAllWindows()\n",
    "\n",
    "signContent(\"videoOut.mp4\")\n"
   ]
  },
  {
   "cell_type": "markdown",
   "metadata": {},
   "source": [
    "### Checks forgery in the privacy protected video if any"
   ]
  },
  {
   "cell_type": "code",
   "execution_count": 23,
   "metadata": {},
   "outputs": [
    {
     "name": "stdout",
     "output_type": "stream",
     "text": [
      "Authenticated\n"
     ]
    },
    {
     "name": "stderr",
     "output_type": "stream",
     "text": [
      "C:\\Users\\hp\\Anaconda3\\lib\\site-packages\\ipykernel_launcher.py:17: DeprecationWarning: str for data is no longer accepted, use bytes\n"
     ]
    }
   ],
   "source": [
    "\n",
    "def detectForgery(received):\n",
    "    \n",
    "    try:\n",
    "        #open certificate\n",
    "        f = open(CERT_FILE)\n",
    "        ss_buf = f.read()\n",
    "        f.close()\n",
    "        ss_cert = crypto.load_certificate(crypto.FILETYPE_PEM, ss_buf)\n",
    "\n",
    "        #open the signed content received\n",
    "        f = open(signaturePath, 'rb')\n",
    "        sig=f.read()\n",
    "        f.close()\n",
    "\n",
    "        # verify the integrity of received image with the certificate and signature\n",
    "        crypto.verify(ss_cert, sig, hash_file(received), 'sha256')\n",
    "        print(\"Authenticated\")\n",
    "    \n",
    "    except:\n",
    "        print(\"Forgery detected\")\n",
    "        \n",
    "detectForgery(\"videoOut.mp4\")"
   ]
  }
 ],
 "metadata": {
  "kernelspec": {
   "display_name": "Python 3",
   "language": "python",
   "name": "python3"
  },
  "language_info": {
   "codemirror_mode": {
    "name": "ipython",
    "version": 3
   },
   "file_extension": ".py",
   "mimetype": "text/x-python",
   "name": "python",
   "nbconvert_exporter": "python",
   "pygments_lexer": "ipython3",
   "version": "3.7.3"
  }
 },
 "nbformat": 4,
 "nbformat_minor": 2
}
